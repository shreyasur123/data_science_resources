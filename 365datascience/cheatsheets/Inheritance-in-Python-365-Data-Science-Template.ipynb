{
 "cells": [
  {
   "cell_type": "markdown",
   "id": "c955baf1",
   "metadata": {},
   "source": [
    "<hr style=\"border:5px solid #141F31\"> </hr>"
   ]
  },
  {
   "cell_type": "markdown",
   "id": "d090253a",
   "metadata": {},
   "source": [
    "# 365 DataScience Inheritance in Python"
   ]
  },
  {
   "cell_type": "markdown",
   "id": "aae4f1e0",
   "metadata": {},
   "source": [
    "<hr style=\"border:4.5px solid #141F31\"> </hr>"
   ]
  },
  {
   "cell_type": "markdown",
   "id": "c86eca55",
   "metadata": {},
   "source": [
    "## Step 1 Create and design a class"
   ]
  },
  {
   "cell_type": "code",
   "execution_count": null,
   "id": "0c222efe",
   "metadata": {
    "scrolled": false
   },
   "outputs": [],
   "source": [
    "# Create a class called Patient.\n",
    "# 'object' is the class from which all other classes inherit.\n",
    "class Patient(object):\n",
    "    \n",
    "    # In a docstring, describe what the purpose of the class is.\n",
    "    ''' Register a patient in a medical centre '''\n",
    "    \n",
    "    # Define a shared variable across the whole class that is the same for each instance of the class.\n",
    "    # This is what we call a class variable.\n",
    "    status = 'Patient'\n",
    "    \n",
    "    # Create a constructor which controls the varibles that each object can have.\n",
    "    # The 'self' keyword serves as a placeholder for each instance of the Patient class.\n",
    "    def __init__(self, name, age):\n",
    "        self.name = name\n",
    "        self.age = age\n",
    "        self.note = []\n",
    "        \n",
    "    # Functions inside classes are called methods.\n",
    "    # Methods help the user interact with the instance of a certain class.\n",
    "    # In Python, methods are accessible through the dot-notation.\n",
    "    # Below, we define a method that would allow the user to add a note to each patient.\n",
    "    # Every time the user creates a new note, it will be appended to the old one, so that a record is kept.\n",
    "    def add_note(self, note):\n",
    "        ''' Add a note to keep track of the health of a patient. '''\n",
    "        \n",
    "        self.note.append(note)\n",
    "        \n",
    "    # Below, we define a method that returns the information for a patient.\n",
    "    def get_details(self):\n",
    "        ''' Retrieve the current information available for the patient. '''\n",
    "        \n",
    "        print(f'Patient record \\nName: {self.name} \\nAge: {self.age} \\nNote: {self.note}')"
   ]
  },
  {
   "cell_type": "markdown",
   "id": "662bf338",
   "metadata": {},
   "source": [
    "## Step 2 Create a new class which inherits everything from the Patient class"
   ]
  },
  {
   "cell_type": "code",
   "execution_count": null,
   "id": "721fc572",
   "metadata": {
    "scrolled": false
   },
   "outputs": [],
   "source": [
    "# Define a class that will be used to create a subset of all patients, namely, infants.\n",
    "# The Infant class would inherit all class variables and methods defined in the Patient class.\n",
    "class Infant(Patient):\n",
    "    ''' Patients under 2 years old. '''\n",
    "    \n",
    "    def __init__(self, name, age):\n",
    "        \n",
    "        # Create a variable unique to the Infant class.\n",
    "        # Once an object of the Infant class is instantiated, an empty 'vaccinations' list is automatically createsd.\n",
    "        self.vaccinations = []\n",
    "        \n",
    "        # The super() function searches the Patient class for the __init__ method.\n",
    "        # It therefore initializes the variables from the Patient class once an instance of the Infant class\n",
    "        # is created.\n",
    "        # Therefore, upon instantiation, an infant would have a name, an age, a list of notes, \n",
    "        # a list of vaccinations, and a status.\n",
    "        super().__init__(name, age)\n",
    "        \n",
    "    # Define a new method unique to the Infant class.\n",
    "    def add_vac(self, vaccine):\n",
    "        ''' Keep a record of the vaccines the infant has gotten. '''\n",
    "\n",
    "        self.vaccinations.append(vaccine)\n",
    "\n",
    "    # Override the get_details() method that was defined in the Patient class.\n",
    "    def get_details(self):\n",
    "        ''' Retrieve the current information available for the patient. '''\n",
    "        \n",
    "        print(f'Patient record \\nName: {self.name} \\nAge: {self.age} ' \\\n",
    "                  f'\\nNote: {self.note} \\nVaccines: {self.vaccinations}')"
   ]
  },
  {
   "cell_type": "markdown",
   "id": "3a282386",
   "metadata": {},
   "source": [
    "## Step 2 Create an object - an instance of the Patient class"
   ]
  },
  {
   "cell_type": "code",
   "execution_count": null,
   "id": "5c6ef942",
   "metadata": {
    "scrolled": false
   },
   "outputs": [],
   "source": [
    "# Create an instance of the Patient class and an instance of the Infant class.\n",
    "alice = Patient('Alice', 42)\n",
    "bob = Infant('Bob', 1)"
   ]
  },
  {
   "cell_type": "markdown",
   "id": "ebfe3ec8",
   "metadata": {},
   "source": [
    "## Step 3 Get the details for each patient"
   ]
  },
  {
   "cell_type": "code",
   "execution_count": null,
   "id": "7be0f115",
   "metadata": {
    "scrolled": false
   },
   "outputs": [],
   "source": [
    "# Access the get_details() method through the dot-notation.\n",
    "alice.get_details()"
   ]
  },
  {
   "cell_type": "code",
   "execution_count": null,
   "id": "a79e52df",
   "metadata": {
    "scrolled": false
   },
   "outputs": [],
   "source": [
    "# Access the get_details() method through the dot-notation.\n",
    "# Note the additional list of vaccines.\n",
    "bob.get_details()"
   ]
  },
  {
   "cell_type": "markdown",
   "id": "8bbdfe41",
   "metadata": {},
   "source": [
    "## Step 4 Add a note for each patient "
   ]
  },
  {
   "cell_type": "code",
   "execution_count": null,
   "id": "17ad4ab4",
   "metadata": {
    "scrolled": false
   },
   "outputs": [],
   "source": [
    "alice.add_note('The patient had a slight stomach discomfort.')\n",
    "alice.add_note('The discomfort had disappeared in two days time.')\n",
    "\n",
    "bob.add_note('The patient is healthy and well.')"
   ]
  },
  {
   "cell_type": "markdown",
   "id": "ad690f5f",
   "metadata": {},
   "source": [
    "## Step 5 Add a vaccine"
   ]
  },
  {
   "cell_type": "code",
   "execution_count": null,
   "id": "d5952ae4",
   "metadata": {
    "scrolled": false
   },
   "outputs": [],
   "source": [
    "# Access the add_vac() method through the dot-notation.\n",
    "bob.add_vac('MMR')"
   ]
  },
  {
   "cell_type": "markdown",
   "id": "8c6d6378",
   "metadata": {},
   "source": [
    "## Step 6 Get the updated details for both patients"
   ]
  },
  {
   "cell_type": "code",
   "execution_count": null,
   "id": "5f3ca7fd",
   "metadata": {
    "scrolled": false
   },
   "outputs": [],
   "source": [
    "alice.get_details()"
   ]
  },
  {
   "cell_type": "code",
   "execution_count": null,
   "id": "2ad0b79c",
   "metadata": {
    "scrolled": false
   },
   "outputs": [],
   "source": [
    "bob.get_details()"
   ]
  },
  {
   "cell_type": "markdown",
   "id": "97e26f0d",
   "metadata": {},
   "source": [
    "<a href=\"https://365datascience.com/resources-center/offer/?utm_medium=web&utm_source=rs&utm_campaign=web-rs-inheritance-in-python%20&utm_content=inheritance-in-python&utm_term=t\">Start your 365 Journey!</a>"
   ]
  },
  {
   "cell_type": "code",
   "execution_count": null,
   "id": "87a9ae8b",
   "metadata": {},
   "outputs": [],
   "source": []
  }
 ],
 "metadata": {
  "kernelspec": {
   "display_name": "Python 3 (ipykernel)",
   "language": "python",
   "name": "python3"
  },
  "language_info": {
   "codemirror_mode": {
    "name": "ipython",
    "version": 3
   },
   "file_extension": ".py",
   "mimetype": "text/x-python",
   "name": "python",
   "nbconvert_exporter": "python",
   "pygments_lexer": "ipython3",
   "version": "3.9.7"
  }
 },
 "nbformat": 4,
 "nbformat_minor": 5
}
