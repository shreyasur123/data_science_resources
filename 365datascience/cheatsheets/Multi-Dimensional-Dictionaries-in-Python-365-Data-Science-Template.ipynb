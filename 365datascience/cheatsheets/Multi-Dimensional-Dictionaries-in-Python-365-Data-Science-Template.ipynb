{
 "cells": [
  {
   "cell_type": "markdown",
   "id": "c955baf1",
   "metadata": {},
   "source": [
    "<hr style=\"border:5px solid #141F31\"> </hr>"
   ]
  },
  {
   "cell_type": "markdown",
   "id": "d090253a",
   "metadata": {},
   "source": [
    "# 365 DataScience Multi-dimensional dictionaries in Python"
   ]
  },
  {
   "cell_type": "markdown",
   "id": "aae4f1e0",
   "metadata": {},
   "source": [
    "<hr style=\"border:4.5px solid #141F31\"> </hr>"
   ]
  },
  {
   "cell_type": "markdown",
   "id": "5ab531f0",
   "metadata": {},
   "source": [
    "## Step 1 Define a multi-dimensional dictionary"
   ]
  },
  {
   "cell_type": "code",
   "execution_count": null,
   "id": "689b45b7",
   "metadata": {},
   "outputs": [],
   "source": [
    "# Define a dictionary by creating key:value pairs\n",
    "# Store the countries as keys.\n",
    "# Create dictionaries storing their capitals and native languages.\n",
    "# These dictionaries will then serve as values.\n",
    "capitals = {'France':{'Capital':'Paris', 'Language':'French'}, \n",
    "            'Spain':{'Capital':'Madrid', 'Language':'Spanish'},\n",
    "            'Germany':{'Capital':'Berlin', 'Language':'German'}, \n",
    "            'Greece':{'Capital':'Anthens', 'Language':'Greek'}, \n",
    "            'Bulgaria':{'Capital':'Sofia', 'Language':'Bulgarian'}, \n",
    "            'Ireland':{'Capital':'Dublin', 'Language':'Irish'}, \n",
    "            'Mexico':{'Capital':'Mexico City', 'Language':'Spanish'}}"
   ]
  },
  {
   "cell_type": "markdown",
   "id": "cdb3263c",
   "metadata": {},
   "source": [
    "## Step 2 Retrieve the keys"
   ]
  },
  {
   "cell_type": "code",
   "execution_count": null,
   "id": "7f36e6ad",
   "metadata": {},
   "outputs": [],
   "source": [
    "capitals.keys()"
   ]
  },
  {
   "cell_type": "markdown",
   "id": "6096e089",
   "metadata": {},
   "source": [
    "## Step 3 Retrieve the values"
   ]
  },
  {
   "cell_type": "code",
   "execution_count": null,
   "id": "5bf0df46",
   "metadata": {},
   "outputs": [],
   "source": [
    "capitals.values()"
   ]
  },
  {
   "cell_type": "markdown",
   "id": "9236c739",
   "metadata": {},
   "source": [
    "## Step 4 Get the value of a specific key"
   ]
  },
  {
   "cell_type": "code",
   "execution_count": null,
   "id": "14adbce5",
   "metadata": {},
   "outputs": [],
   "source": [
    "capitals['Germany']"
   ]
  },
  {
   "cell_type": "markdown",
   "id": "dd2ef092",
   "metadata": {},
   "source": [
    "## Step 5 Create a new key:value pair"
   ]
  },
  {
   "cell_type": "code",
   "execution_count": null,
   "id": "fde7f974",
   "metadata": {},
   "outputs": [],
   "source": [
    "capitals['South Korea'] = {'Capital':'Seoul', 'Language':'Korean'}\n",
    "capitals"
   ]
  },
  {
   "cell_type": "markdown",
   "id": "03bf279f",
   "metadata": {},
   "source": [
    "## Step 6 Loop through the keys in the dictionary"
   ]
  },
  {
   "cell_type": "code",
   "execution_count": null,
   "id": "5d597025",
   "metadata": {},
   "outputs": [],
   "source": [
    "for country in capitals:\n",
    "    print(country, end = ' ')"
   ]
  },
  {
   "cell_type": "markdown",
   "id": "b4f60178",
   "metadata": {},
   "source": [
    "## Step 7 Loop through the keys and values in the dictionary"
   ]
  },
  {
   "cell_type": "code",
   "execution_count": null,
   "id": "70d260ca",
   "metadata": {},
   "outputs": [],
   "source": [
    "for key, value in capitals.items():\n",
    "    print(f'{value[\"Capital\"]} is the capital of {key}. They speak {value[\"Language\"]}.')"
   ]
  },
  {
   "cell_type": "markdown",
   "id": "a7c2abf5",
   "metadata": {},
   "source": [
    "<a href=\"https://365datascience.com/resources-center/offer/?utm_medium=web&utm_source=rs&utm_campaign=web-rs-multi-dimensional-dictionaries-in-python&utm_content=multi-dimensional-dictionaries-in-python&utm_term=t\">Start your 365 Journey!</a>"
   ]
  },
  {
   "cell_type": "code",
   "execution_count": null,
   "id": "6e86d206",
   "metadata": {},
   "outputs": [],
   "source": []
  }
 ],
 "metadata": {
  "kernelspec": {
   "display_name": "Python 3 (ipykernel)",
   "language": "python",
   "name": "python3"
  },
  "language_info": {
   "codemirror_mode": {
    "name": "ipython",
    "version": 3
   },
   "file_extension": ".py",
   "mimetype": "text/x-python",
   "name": "python",
   "nbconvert_exporter": "python",
   "pygments_lexer": "ipython3",
   "version": "3.9.7"
  }
 },
 "nbformat": 4,
 "nbformat_minor": 5
}
